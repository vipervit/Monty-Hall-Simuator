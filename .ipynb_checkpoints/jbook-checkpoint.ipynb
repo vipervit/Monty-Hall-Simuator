{
 "cells": [
  {
   "cell_type": "code",
   "execution_count": null,
   "id": "frequent-letter",
   "metadata": {},
   "outputs": [],
   "source": [
    "import sys\n",
    "import logging\n",
    "import getopt\n",
    "import random\n",
    "from enum import IntEnum\n",
    "import montyhall\n",
    "from montyhall import logger, params\n",
    "from montyhall.doors import original\n",
    "from montyhall.host import host\n",
    "from montyhall.player import player"
   ]
  },
  {
   "cell_type": "code",
   "execution_count": null,
   "id": "resident-lighting",
   "metadata": {},
   "outputs": [],
   "source": [
    "params.plays=10000\n",
    "params.total=3\n",
    "params.open=1\n",
    "params.guess=1\n",
    "params.prized=1"
   ]
  },
  {
   "cell_type": "code",
   "execution_count": null,
   "id": "racial-theology",
   "metadata": {},
   "outputs": [],
   "source": [
    "def init_data_containers(n):\n",
    "    dict = {}\n",
    "    for i in range(n):\n",
    "        dict[i] = 0\n",
    "    return dict"
   ]
  },
  {
   "cell_type": "code",
   "execution_count": null,
   "id": "supported-principal",
   "metadata": {},
   "outputs": [],
   "source": [
    "wins = init_data_containers(params.plays)\n",
    "losses = init_data_containers(params.plays)\n",
    "\n",
    "for i in range(params.plays):\n",
    "\n",
    "    hst = host()\n",
    "    plyr = player()\n",
    "\n",
    "    hst.doors.total = params.total\n",
    "    hst.doors.prized = params.prized\n",
    "    hst.total_doors_to_open = params.open\n",
    "    hst.setup_doors()\n",
    "\n",
    "    plyr.doorlist = hst.doors.get_all()\n",
    "    plyr.total_doors_to_guess = params.guess\n",
    "    plyr.make_guesses()\n",
    "    guesses = plyr.guesses\n",
    "\n",
    "    hst.accept_guesses(guesses)\n",
    "    hst.open_doors()\n",
    "\n",
    "    if params.always_switch == 'True':\n",
    "\n",
    "        plyr.doorlist = hst.doors.get_all_switchable()\n",
    "        plyr.make_guesses()\n",
    "        new_guesses = plyr.guesses\n",
    "\n",
    "        hst.accept_guesses(new_guesses)\n",
    "\n",
    "    wins[i] += hst.won_guesses_count()\n",
    "    losses[i] += hst.lost_guesses_count()\n"
   ]
  },
  {
   "cell_type": "code",
   "execution_count": null,
   "id": "first-surfing",
   "metadata": {},
   "outputs": [],
   "source": [
    "print(wins)"
   ]
  }
 ],
 "metadata": {
  "kernelspec": {
   "display_name": "Python 3",
   "language": "python",
   "name": "python3"
  },
  "language_info": {
   "codemirror_mode": {
    "name": "ipython",
    "version": 3
   },
   "file_extension": ".py",
   "mimetype": "text/x-python",
   "name": "python",
   "nbconvert_exporter": "python",
   "pygments_lexer": "ipython3",
   "version": "3.7.3"
  }
 },
 "nbformat": 4,
 "nbformat_minor": 5
}
