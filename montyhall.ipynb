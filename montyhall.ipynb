{
 "cells": [
  {
   "cell_type": "code",
   "execution_count": 1,
   "id": "aquatic-london",
   "metadata": {},
   "outputs": [],
   "source": [
    "import sys\n",
    "import logging\n",
    "import getopt\n",
    "import random\n",
    "from enum import IntEnum\n",
    "import matplotlib.pyplot as plt\n",
    "import numpy as np"
   ]
  },
  {
   "cell_type": "code",
   "execution_count": 2,
   "id": "stuck-blast",
   "metadata": {},
   "outputs": [],
   "source": [
    "import montyhall\n",
    "from montyhall import logger, params\n",
    "from montyhall.doors import original\n",
    "from montyhall.host import host\n",
    "from montyhall.player import player"
   ]
  },
  {
   "cell_type": "code",
   "execution_count": 3,
   "id": "devoted-beverage",
   "metadata": {},
   "outputs": [],
   "source": [
    "params.plays=100000\n",
    "params.total=10\n",
    "params.open=2\n",
    "params.guess=1\n",
    "params.prized=2"
   ]
  },
  {
   "cell_type": "code",
   "execution_count": 4,
   "id": "assured-chassis",
   "metadata": {},
   "outputs": [],
   "source": [
    "def init_data_containers(n):\n",
    "    dict = {}\n",
    "    for i in range(n):\n",
    "        dict[i] = 0\n",
    "    return dict"
   ]
  },
  {
   "cell_type": "code",
   "execution_count": 5,
   "id": "fitted-alpha",
   "metadata": {},
   "outputs": [],
   "source": [
    "def execute(params):\n",
    "    wins = init_data_containers(params.plays)\n",
    "    losses = init_data_containers(params.plays)\n",
    "    for i in range(params.plays):\n",
    "        hst = host()\n",
    "        plyr = player()\n",
    "        hst.doors.total = params.total\n",
    "        hst.doors.prized = params.prized\n",
    "        hst.total_doors_to_open = params.open\n",
    "        hst.setup_doors()\n",
    "        plyr.doorlist = hst.doors.get_all()\n",
    "        plyr.total_doors_to_guess = params.guess\n",
    "        plyr.make_guesses()\n",
    "        guesses = plyr.guesses\n",
    "        hst.accept_guesses(guesses)\n",
    "        hst.open_doors()\n",
    "        if params.always_switch:\n",
    "            plyr.doorlist = hst.doors.get_all_switchable()\n",
    "            plyr.make_guesses()\n",
    "            new_guesses = plyr.guesses\n",
    "            hst.accept_guesses(new_guesses)\n",
    "        wins[i] += hst.won_guesses_count()\n",
    "        losses[i] += hst.lost_guesses_count()\n",
    "    return {'always switch': params.always_switch, 'wins': sum(wins.values()), 'losses': sum(losses.values()) }"
   ]
  },
  {
   "cell_type": "code",
   "execution_count": 6,
   "id": "pretty-stockholm",
   "metadata": {},
   "outputs": [
    {
     "data": {
      "image/png": "[encoded data removed]",
      "text/plain": [
       "<Figure size 432x288 with 1 Axes>"
      ]
     },
     "metadata": {
      "needs_background": "light"
     },
     "output_type": "display_data"
    }
   ],
   "source": [
    "def autolabel(rects, denom):\n",
    "    \"\"\"Attach a text label above each bar in *rects*, displaying its height.\"\"\"\n",
    "    for rect in rects:\n",
    "        height = rect.get_height()\n",
    "        ax.annotate('{}%'.format(int(100*height/denom)),\n",
    "                    xy=(rect.get_x() + rect.get_width() / 2, height),\n",
    "                    xytext=(0, 3),  # 3 points vertical offset\n",
    "                    textcoords=\"offset points\",\n",
    "                    ha='center', va='bottom')\n",
    "\n",
    "# labels = ['Always switched doors', 'Did NOT switch doors']\n",
    "# x=np.arange(len(labels))\n",
    "# x=np.arange(1)\n",
    "width=0.1\n",
    "\n",
    "res=[execute(params)['wins'] for params.always_switch in [True, False]]\n",
    "\n",
    "fig, ax = plt.subplots()\n",
    "yep=ax.bar(1+width/2, res[0], width, label='Always switched', color='green')\n",
    "nope=ax.bar(1-width/2, res[1], width, label='NEVER switched', color='red')\n",
    "\n",
    "autolabel(yep, params.plays)\n",
    "autolabel(nope, params.plays)\n",
    "\n",
    "ax.set_xticks([])\n",
    "# ax.set_xticklabels(labels)\n",
    "ax.legend()\n",
    "\n",
    "\n",
    "fig.tight_layout()\n",
    "plt.show()\n"
   ]
  },
  {
   "cell_type": "code",
   "execution_count": null,
   "id": "studied-chase",
   "metadata": {},
   "outputs": [],
   "source": []
  }
 ],
 "metadata": {
  "kernelspec": {
   "display_name": "Python 3",
   "language": "python",
   "name": "python3"
  },
  "language_info": {
   "codemirror_mode": {
    "name": "ipython",
    "version": 3
   },
   "file_extension": ".py",
   "mimetype": "text/x-python",
   "name": "python",
   "nbconvert_exporter": "python",
   "pygments_lexer": "ipython3",
   "version": "3.7.3"
  }
 },
 "nbformat": 4,
 "nbformat_minor": 5
}
